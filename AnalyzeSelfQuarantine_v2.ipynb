{
 "cells": [
  {
   "cell_type": "code",
   "execution_count": 4,
   "metadata": {},
   "outputs": [
    {
     "name": "stdout",
     "output_type": "stream",
     "text": [
      "   CaseNo            District  \\\n",
      "1       1   Central & Western   \n",
      "10     10   Central & Western   \n",
      "11     11   Central & Western   \n",
      "12     12   Central & Western   \n",
      "13     13   Central & Western   \n",
      "\n",
      "                                              Address     EndDate  \n",
      "1                        5NO.5 CONNAUGHT ROAD CENTRAL  13/03/2020  \n",
      "10                        239NO.239 QUEEN'S ROAD WEST  13/03/2020  \n",
      "11  421ABLOCK A, WAH MING CENTRE, NO.421 QUEEN'S R...  13/03/2020  \n",
      "12                      3BLOCK 3, HARBOUR VIEW GARDEN  13/03/2020  \n",
      "13  1632BLOCK 2, KWONG FUNG TERRACE, NO.163 THIRD ...  13/03/2020  \n"
     ]
    }
   ],
   "source": [
    "# Larry To\n",
    "# Created on: 4/10/2020\n",
    "# Purpose: analyze local quarantine location data and display it on a plot\n",
    "\n",
    "\n",
    "# Import Libraries\n",
    "import pickle\n",
    "import pandas\n",
    "import googlemaps\n",
    "import re \n",
    "\n",
    "file = open('data/processedData/self_quarantine.pkl', 'rb')\n",
    "data = pickle.load(file)\n",
    "file.close()\n",
    "\n",
    "# print(data.info())\n",
    "data = data.drop([0])\n",
    "data = data.replace('\\n','', regex=True)\n",
    "print(data.head())"
   ]
  },
  {
   "cell_type": "code",
   "execution_count": null,
   "metadata": {},
   "outputs": [],
   "source": []
  }
 ],
 "metadata": {
  "kernelspec": {
   "display_name": "Python 3",
   "language": "python",
   "name": "python3"
  },
  "language_info": {
   "codemirror_mode": {
    "name": "ipython",
    "version": 3
   },
   "file_extension": ".py",
   "mimetype": "text/x-python",
   "name": "python",
   "nbconvert_exporter": "python",
   "pygments_lexer": "ipython3",
   "version": "3.7.2"
  }
 },
 "nbformat": 4,
 "nbformat_minor": 4
}
